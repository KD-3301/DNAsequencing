  #DNA Sequencing with Machine Learning

import numpy as np
import pandas as pd
import matplotlib.pyplot as plt
%matplotlib inline

human_data = pd.read_table('human_data.txt')
human_data.head()

chimp_data = pd.read_table('chimp_data.txt')
dog_data = pd.read_table('dog_data.txt')
chimp_data.head()
dog_data.head()

from IPython.display import Image
Image("Capture1.PNG")

   #K -mer Counting :

def getKmers(sequence, size=6):
  return [sequence[x:x+size].lower() for x in range(len(sequence) - size + 1)]

human_data['words'] = human_data.apply(lambda x: getKmers(x['sequence']),axis = 1)
human_data = human_data.drop('sequence',axis = 1)
chimp_data['words'] = chimp_data.apply(lambda x: getKmers(x['sequence']),axis = 1)
chimp_data = chimp_data.drop('sequence',axis = 1)
dog_data['words'] = dog_data.apply(lambda x: getKmers(x['sequence']),axis = 1)
dog_data = dog_data.drop('sequence',axis = 1)

human_data.head()

chimp_data.head()

dog_data.head()

human_texts = list(human_data['words'])
for item in range(len(human_texts)):
  human_texts[item] = ' '.join(human_texts[item])
y_data = human_data.iloc[:,0].values

print(human_texts[0]) 

y_data

chimp_texts = list(chimp_data['words'])
for item in range(len(chimp_texts)):
  chimp_texts[item] = ' '.join(chimp_texts[item])
y_chimp = chimp_data.iloc[:,0].values


print(chimp_texts[0])

y_chimp

dog_texts = list(dog_data['words'])
for item in range(len(dog_texts)):
  dog_texts[item] = ' '.join(dog_texts[item])
y_dog = dog_data.iloc[:,0].values

print(dog_texts[0])

y_dog

  #Bag of Words using countVECTORIZER

from sklearn.feature_extraction.text import CountVectorizer
cv = CountVectorizer(ngram_range=(4,4))
X = cv.fit_transform(human_texts)
X_chimp = cv.transform(chimp_texts)
X_dog = cv.transform(dog_texts)

print(X.shape)
print(X_chimp.shape)
print(X_dog.shape)

human_data['class'].value_counts().sort_index().plot.bar()

from sklearn.model_selection import train_test_split
X_train, X_test, y_train, y_test = train_test_split(X, 
                                                    y_data, 
                                                    test_size = 0.20, 
                                                    random_state=42)

print(X_train.shape)
print(X_test.shape)

from sklearn.naive_bayes import MultinomialNB
classifier = MultinomialNB(alpha=0.1)
classifier.fit(X_train, y_train)

y_pred = classifier.predict(X_test)


from sklearn.metrics import accuracy_score, f1_score, precision_score, recall_score
print("Confusion matrix\n")
print(pd.crosstab(pd.Series(y_test, name='Actual'), pd.Series(y_pred, name='Predicted')))
def get_metrics(y_test, y_predicted):
    accuracy = accuracy_score(y_test, y_predicted)
    precision = precision_score(y_test, y_predicted, average='weighted')
    recall = recall_score(y_test, y_predicted, average='weighted')
    f1 = f1_score(y_test, y_predicted, average='weighted')
    return accuracy, precision, recall, f1
accuracy, precision, recall, f1 = get_metrics(y_test, y_pred)
print("accuracy = %.3f \nprecision = %.3f \nrecall = %.3f \nf1 = %.3f" % (accuracy, precision, recall, f1))




# *   Accuracy = 90+ %
# *   precision = 90+ %
# *   Recall = 90+ %
# *   f1 score = 90+ %


# Thus K-mers counting helps to get this amount of accuracy in DNA sequencing.
